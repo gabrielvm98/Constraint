{
  "nbformat": 4,
  "nbformat_minor": 0,
  "metadata": {
    "colab": {
      "name": "ML template.ipynb",
      "provenance": [],
      "collapsed_sections": []
    },
    "kernelspec": {
      "name": "python3",
      "display_name": "Python 3"
    },
    "language_info": {
      "name": "python"
    }
  },
  "cells": [
    {
      "cell_type": "code",
      "execution_count": null,
      "metadata": {
        "id": "PAORr8P2rVLo"
      },
      "outputs": [],
      "source": [
        "import pandas as pd\n",
        "import matplotlib.pyplot as plt\n",
        "import seaborn as sns\n",
        "import numpy as np\n",
        "import scipy.stats as ss\n",
        "from scipy.stats import chi2_contingency\n",
        "\n",
        "from sklearn.model_selection import train_test_split\n",
        "from sklearn.naive_bayes import GaussianNB\n",
        "from sklearn.metrics import confusion_matrix\n",
        "from sklearn.metrics import plot_confusion_matrix\n",
        "from sklearn.metrics import roc_curve, auc, roc_auc_score\n",
        "from sklearn.preprocessing import StandardScaler\n",
        "from sklearn.preprocessing import LabelEncoder\n",
        "from sklearn import tree\n",
        "from sklearn.model_selection import GridSearchCV\n",
        "from sklearn.neighbors import KNeighborsClassifier\n",
        "from sklearn.model_selection import cross_val_score\n",
        "from sklearn.neural_network import MLPClassifier"
      ]
    },
    {
      "cell_type": "code",
      "source": [
        "data80 = pd.read_csv('/content/drive/MyDrive/docs/churn-bigml-80.csv')\n",
        "data20 = pd.read_csv('/content/drive/MyDrive/docs/churn-bigml-20.csv')\n",
        "data = pd.concat([data80,data20])"
      ],
      "metadata": {
        "id": "3-pCM3-gkcds"
      },
      "execution_count": null,
      "outputs": []
    },
    {
      "cell_type": "code",
      "source": [
        "data.head(10)"
      ],
      "metadata": {
        "id": "RUpCxh1elv5i"
      },
      "execution_count": null,
      "outputs": []
    },
    {
      "cell_type": "code",
      "source": [
        "data.info()"
      ],
      "metadata": {
        "id": "AAfzYuDylwgf"
      },
      "execution_count": null,
      "outputs": []
    },
    {
      "cell_type": "code",
      "source": [
        "#data['Churn'] = data['Churn'].astype(object)"
      ],
      "metadata": {
        "id": "juohS392GQHv"
      },
      "execution_count": null,
      "outputs": []
    },
    {
      "cell_type": "markdown",
      "source": [
        "Dispersion"
      ],
      "metadata": {
        "id": "mOROfq4ql0CT"
      }
    },
    {
      "cell_type": "code",
      "source": [
        "def data_dispersion(data):\n",
        "  #coeficiente de variación\n",
        "  print(\"Dispersion de las variables:\")\n",
        "  max = -1\n",
        "  max_c = \"\"\n",
        "  for i, col  in enumerate(data.columns):\n",
        "    res = data[col].std(ddof=0)/data[col].mean()\n",
        "    print(col,\": \", res)\n",
        "    if(max<=res):\n",
        "      max = res\n",
        "      max_c = col\n",
        "  print(\"La variable con mayor dispersion es:\", max_c)"
      ],
      "metadata": {
        "id": "TzX667MHl1lf"
      },
      "execution_count": null,
      "outputs": []
    },
    {
      "cell_type": "code",
      "source": [
        "data_dispersion(data.iloc[:,5:-1])"
      ],
      "metadata": {
        "colab": {
          "base_uri": "https://localhost:8080/"
        },
        "id": "D-MnT9vAnFnA",
        "outputId": "c7f0ef18-7510-44cf-ba3c-558f6e77dc78"
      },
      "execution_count": null,
      "outputs": [
        {
          "output_type": "stream",
          "name": "stdout",
          "text": [
            "Dispersion de las variables:\n",
            "Number vmail messages :  1.689874679146379\n",
            "Total day minutes :  0.30292970727479\n",
            "Total day calls :  0.19979035933482467\n",
            "Total day charge :  0.3029236413908617\n",
            "Total eve minutes :  0.25229449801158227\n",
            "Total eve calls :  0.19896891955124832\n",
            "Total eve charge :  0.25229085075256713\n",
            "Total night minutes :  0.2517336923181814\n",
            "Total night calls :  0.1954462187794541\n",
            "Total night charge :  0.25173687349157997\n",
            "Total intl minutes :  0.2726717404977856\n",
            "Total intl calls :  0.5493634604337725\n",
            "Total intl charge :  0.27261252323018564\n",
            "Customer service calls :  0.8415960563782503\n",
            "La variable con mayor dispersion es: Number vmail messages\n"
          ]
        }
      ]
    },
    {
      "cell_type": "markdown",
      "source": [
        "Distribucion Normal"
      ],
      "metadata": {
        "id": "5J6aqul_p-2C"
      }
    },
    {
      "cell_type": "code",
      "source": [
        "def data_shapiro(data):  \n",
        "  print(\"Distribución Normal de las variables:\")\n",
        "  normal_dist = []\n",
        "  not_normal_dist = []    \n",
        "  for i, col  in enumerate(data.columns):\n",
        "    res = ss.shapiro(data[col])\n",
        "    print(col,\" pvalor: \", res[1])\n",
        "    if(res[1] > 0.05):\n",
        "      print(\"SI se aproxima a una distribución normal\")\n",
        "      normal_dist.append(col)\n",
        "    else:\n",
        "      print(\"NO se aproxima a una distribución normal\")\n",
        "      not_normal_dist.append(col)\n",
        "    print(\"\")\n",
        "  return normal_dist, not_normal_dist"
      ],
      "metadata": {
        "id": "W0iFCpjUqDv_"
      },
      "execution_count": null,
      "outputs": []
    },
    {
      "cell_type": "code",
      "source": [
        "normal_dist, not_normal_dist = data_shapiro(data.iloc[:,5:-1])\n",
        "print(\"Normal:\",normal_dist)\n",
        "print(\"No Normal\",not_normal_dist)"
      ],
      "metadata": {
        "colab": {
          "base_uri": "https://localhost:8080/"
        },
        "id": "KjDjrOjjqfl9",
        "outputId": "0739385a-5d3a-48eb-f2d4-9e4dd09e6a05"
      },
      "execution_count": null,
      "outputs": [
        {
          "output_type": "stream",
          "name": "stdout",
          "text": [
            "Distribución Normal de las variables:\n",
            "Number vmail messages  pvalor:  0.0\n",
            "NO se aproxima a una distribución normal\n",
            "\n",
            "Total day minutes  pvalor:  0.6374387741088867\n",
            "SI se aproxima a una distribución normal\n",
            "\n",
            "Total day calls  pvalor:  0.0002773392479866743\n",
            "NO se aproxima a una distribución normal\n",
            "\n",
            "Total day charge  pvalor:  0.641385018825531\n",
            "SI se aproxima a una distribución normal\n",
            "\n",
            "Total eve minutes  pvalor:  0.711155354976654\n",
            "SI se aproxima a una distribución normal\n",
            "\n",
            "Total eve calls  pvalor:  0.00886891596019268\n",
            "NO se aproxima a una distribución normal\n",
            "\n",
            "Total eve charge  pvalor:  0.7044191360473633\n",
            "SI se aproxima a una distribución normal\n",
            "\n",
            "Total night minutes  pvalor:  0.6227363348007202\n",
            "SI se aproxima a una distribución normal\n",
            "\n",
            "Total night calls  pvalor:  0.25032323598861694\n",
            "SI se aproxima a una distribución normal\n",
            "\n",
            "Total night charge  pvalor:  0.6202784180641174\n",
            "SI se aproxima a una distribución normal\n",
            "\n",
            "Total intl minutes  pvalor:  8.136633727895415e-11\n",
            "NO se aproxima a una distribución normal\n",
            "\n",
            "Total intl calls  pvalor:  2.583573978675665e-41\n",
            "NO se aproxima a una distribución normal\n",
            "\n",
            "Total intl charge  pvalor:  7.591647449567418e-11\n",
            "NO se aproxima a una distribución normal\n",
            "\n",
            "Customer service calls  pvalor:  1.401298464324817e-45\n",
            "NO se aproxima a una distribución normal\n",
            "\n",
            "Normal: ['Total day minutes', 'Total day charge', 'Total eve minutes', 'Total eve charge', 'Total night minutes', 'Total night calls', 'Total night charge']\n",
            "No Normal ['Number vmail messages', 'Total day calls', 'Total eve calls', 'Total intl minutes', 'Total intl calls', 'Total intl charge', 'Customer service calls']\n"
          ]
        }
      ]
    },
    {
      "cell_type": "markdown",
      "source": [
        "Correlacion"
      ],
      "metadata": {
        "id": "Sh_I6CXbF0Zg"
      }
    },
    {
      "cell_type": "code",
      "source": [
        "# Si las variables se aproximan a una distribución normal => Pearson\n",
        "# Si las variables no se aproximan a una distribución normal => Spearman\n",
        "def data_correlation_matrix(data, m=\"spearman\"):\n",
        "  return(data.corr(method = m))\n",
        "\n",
        "#ss.pearsonr(data['Age'],data['EstimatedSalary'])\n",
        "#ss.spearmanr(data['Age'],data['EstimatedSalary'])\n",
        "\n",
        "def data_correlation_test(data, m=\"spearman\"):\n",
        "  for i, coli  in enumerate(data.columns):\n",
        "    for j, colj  in enumerate(data.columns):      \n",
        "      if(i<j):\n",
        "        if(m == \"spearman\"):\n",
        "          print(f\"Correlacion de {coli} con {colj}:\\t\", ss.spearmanr(data[coli],data[colj]))\n",
        "        else:\n",
        "          print(f\"Correlacion de {coli} con {colj}:\\t\", ss.pearsonr(data[coli],data[colj]))\n",
        "  \n",
        "#Si el pvalor < 5% => Se rechaza la Ho, al 95% de confianza, las variables están correlacionadas\n",
        "#Si el pvalor > 5% => No se rechaza la Ho, al 95% de confianza, las variables no están correlacionadas"
      ],
      "metadata": {
        "id": "P-gNakQiF2W9"
      },
      "execution_count": null,
      "outputs": []
    },
    {
      "cell_type": "code",
      "source": [
        "data_correlation_matrix(data[not_normal_dist], \"spearman\")"
      ],
      "metadata": {
        "colab": {
          "base_uri": "https://localhost:8080/",
          "height": 269
        },
        "id": "Feq9myHYIVdb",
        "outputId": "69e69fd9-da0c-4220-e853-ac57ffd34498"
      },
      "execution_count": null,
      "outputs": [
        {
          "output_type": "execute_result",
          "data": {
            "text/plain": [
              "                        Number vmail messages  Total day calls  \\\n",
              "Number vmail messages                1.000000        -0.012396   \n",
              "Total day calls                     -0.012396         1.000000   \n",
              "Total eve calls                     -0.007148         0.013807   \n",
              "Total intl minutes                  -0.001565         0.015139   \n",
              "Total intl calls                     0.006248         0.004148   \n",
              "Total intl charge                   -0.001565         0.015139   \n",
              "Customer service calls              -0.019639        -0.020957   \n",
              "\n",
              "                        Total eve calls  Total intl minutes  Total intl calls  \\\n",
              "Number vmail messages         -0.007148           -0.001565          0.006248   \n",
              "Total day calls                0.013807            0.015139          0.004148   \n",
              "Total eve calls                1.000000            0.000213          0.014862   \n",
              "Total intl minutes             0.000213            1.000000          0.017900   \n",
              "Total intl calls               0.014862            0.017900          1.000000   \n",
              "Total intl charge              0.000213            1.000000          0.017900   \n",
              "Customer service calls         0.002697           -0.017374         -0.000598   \n",
              "\n",
              "                        Total intl charge  Customer service calls  \n",
              "Number vmail messages           -0.001565               -0.019639  \n",
              "Total day calls                  0.015139               -0.020957  \n",
              "Total eve calls                  0.000213                0.002697  \n",
              "Total intl minutes               1.000000               -0.017374  \n",
              "Total intl calls                 0.017900               -0.000598  \n",
              "Total intl charge                1.000000               -0.017374  \n",
              "Customer service calls          -0.017374                1.000000  "
            ],
            "text/html": [
              "\n",
              "  <div id=\"df-676ab457-0202-43e5-9ba6-c04d3edb7812\">\n",
              "    <div class=\"colab-df-container\">\n",
              "      <div>\n",
              "<style scoped>\n",
              "    .dataframe tbody tr th:only-of-type {\n",
              "        vertical-align: middle;\n",
              "    }\n",
              "\n",
              "    .dataframe tbody tr th {\n",
              "        vertical-align: top;\n",
              "    }\n",
              "\n",
              "    .dataframe thead th {\n",
              "        text-align: right;\n",
              "    }\n",
              "</style>\n",
              "<table border=\"1\" class=\"dataframe\">\n",
              "  <thead>\n",
              "    <tr style=\"text-align: right;\">\n",
              "      <th></th>\n",
              "      <th>Number vmail messages</th>\n",
              "      <th>Total day calls</th>\n",
              "      <th>Total eve calls</th>\n",
              "      <th>Total intl minutes</th>\n",
              "      <th>Total intl calls</th>\n",
              "      <th>Total intl charge</th>\n",
              "      <th>Customer service calls</th>\n",
              "    </tr>\n",
              "  </thead>\n",
              "  <tbody>\n",
              "    <tr>\n",
              "      <th>Number vmail messages</th>\n",
              "      <td>1.000000</td>\n",
              "      <td>-0.012396</td>\n",
              "      <td>-0.007148</td>\n",
              "      <td>-0.001565</td>\n",
              "      <td>0.006248</td>\n",
              "      <td>-0.001565</td>\n",
              "      <td>-0.019639</td>\n",
              "    </tr>\n",
              "    <tr>\n",
              "      <th>Total day calls</th>\n",
              "      <td>-0.012396</td>\n",
              "      <td>1.000000</td>\n",
              "      <td>0.013807</td>\n",
              "      <td>0.015139</td>\n",
              "      <td>0.004148</td>\n",
              "      <td>0.015139</td>\n",
              "      <td>-0.020957</td>\n",
              "    </tr>\n",
              "    <tr>\n",
              "      <th>Total eve calls</th>\n",
              "      <td>-0.007148</td>\n",
              "      <td>0.013807</td>\n",
              "      <td>1.000000</td>\n",
              "      <td>0.000213</td>\n",
              "      <td>0.014862</td>\n",
              "      <td>0.000213</td>\n",
              "      <td>0.002697</td>\n",
              "    </tr>\n",
              "    <tr>\n",
              "      <th>Total intl minutes</th>\n",
              "      <td>-0.001565</td>\n",
              "      <td>0.015139</td>\n",
              "      <td>0.000213</td>\n",
              "      <td>1.000000</td>\n",
              "      <td>0.017900</td>\n",
              "      <td>1.000000</td>\n",
              "      <td>-0.017374</td>\n",
              "    </tr>\n",
              "    <tr>\n",
              "      <th>Total intl calls</th>\n",
              "      <td>0.006248</td>\n",
              "      <td>0.004148</td>\n",
              "      <td>0.014862</td>\n",
              "      <td>0.017900</td>\n",
              "      <td>1.000000</td>\n",
              "      <td>0.017900</td>\n",
              "      <td>-0.000598</td>\n",
              "    </tr>\n",
              "    <tr>\n",
              "      <th>Total intl charge</th>\n",
              "      <td>-0.001565</td>\n",
              "      <td>0.015139</td>\n",
              "      <td>0.000213</td>\n",
              "      <td>1.000000</td>\n",
              "      <td>0.017900</td>\n",
              "      <td>1.000000</td>\n",
              "      <td>-0.017374</td>\n",
              "    </tr>\n",
              "    <tr>\n",
              "      <th>Customer service calls</th>\n",
              "      <td>-0.019639</td>\n",
              "      <td>-0.020957</td>\n",
              "      <td>0.002697</td>\n",
              "      <td>-0.017374</td>\n",
              "      <td>-0.000598</td>\n",
              "      <td>-0.017374</td>\n",
              "      <td>1.000000</td>\n",
              "    </tr>\n",
              "  </tbody>\n",
              "</table>\n",
              "</div>\n",
              "      <button class=\"colab-df-convert\" onclick=\"convertToInteractive('df-676ab457-0202-43e5-9ba6-c04d3edb7812')\"\n",
              "              title=\"Convert this dataframe to an interactive table.\"\n",
              "              style=\"display:none;\">\n",
              "        \n",
              "  <svg xmlns=\"http://www.w3.org/2000/svg\" height=\"24px\"viewBox=\"0 0 24 24\"\n",
              "       width=\"24px\">\n",
              "    <path d=\"M0 0h24v24H0V0z\" fill=\"none\"/>\n",
              "    <path d=\"M18.56 5.44l.94 2.06.94-2.06 2.06-.94-2.06-.94-.94-2.06-.94 2.06-2.06.94zm-11 1L8.5 8.5l.94-2.06 2.06-.94-2.06-.94L8.5 2.5l-.94 2.06-2.06.94zm10 10l.94 2.06.94-2.06 2.06-.94-2.06-.94-.94-2.06-.94 2.06-2.06.94z\"/><path d=\"M17.41 7.96l-1.37-1.37c-.4-.4-.92-.59-1.43-.59-.52 0-1.04.2-1.43.59L10.3 9.45l-7.72 7.72c-.78.78-.78 2.05 0 2.83L4 21.41c.39.39.9.59 1.41.59.51 0 1.02-.2 1.41-.59l7.78-7.78 2.81-2.81c.8-.78.8-2.07 0-2.86zM5.41 20L4 18.59l7.72-7.72 1.47 1.35L5.41 20z\"/>\n",
              "  </svg>\n",
              "      </button>\n",
              "      \n",
              "  <style>\n",
              "    .colab-df-container {\n",
              "      display:flex;\n",
              "      flex-wrap:wrap;\n",
              "      gap: 12px;\n",
              "    }\n",
              "\n",
              "    .colab-df-convert {\n",
              "      background-color: #E8F0FE;\n",
              "      border: none;\n",
              "      border-radius: 50%;\n",
              "      cursor: pointer;\n",
              "      display: none;\n",
              "      fill: #1967D2;\n",
              "      height: 32px;\n",
              "      padding: 0 0 0 0;\n",
              "      width: 32px;\n",
              "    }\n",
              "\n",
              "    .colab-df-convert:hover {\n",
              "      background-color: #E2EBFA;\n",
              "      box-shadow: 0px 1px 2px rgba(60, 64, 67, 0.3), 0px 1px 3px 1px rgba(60, 64, 67, 0.15);\n",
              "      fill: #174EA6;\n",
              "    }\n",
              "\n",
              "    [theme=dark] .colab-df-convert {\n",
              "      background-color: #3B4455;\n",
              "      fill: #D2E3FC;\n",
              "    }\n",
              "\n",
              "    [theme=dark] .colab-df-convert:hover {\n",
              "      background-color: #434B5C;\n",
              "      box-shadow: 0px 1px 3px 1px rgba(0, 0, 0, 0.15);\n",
              "      filter: drop-shadow(0px 1px 2px rgba(0, 0, 0, 0.3));\n",
              "      fill: #FFFFFF;\n",
              "    }\n",
              "  </style>\n",
              "\n",
              "      <script>\n",
              "        const buttonEl =\n",
              "          document.querySelector('#df-676ab457-0202-43e5-9ba6-c04d3edb7812 button.colab-df-convert');\n",
              "        buttonEl.style.display =\n",
              "          google.colab.kernel.accessAllowed ? 'block' : 'none';\n",
              "\n",
              "        async function convertToInteractive(key) {\n",
              "          const element = document.querySelector('#df-676ab457-0202-43e5-9ba6-c04d3edb7812');\n",
              "          const dataTable =\n",
              "            await google.colab.kernel.invokeFunction('convertToInteractive',\n",
              "                                                     [key], {});\n",
              "          if (!dataTable) return;\n",
              "\n",
              "          const docLinkHtml = 'Like what you see? Visit the ' +\n",
              "            '<a target=\"_blank\" href=https://colab.research.google.com/notebooks/data_table.ipynb>data table notebook</a>'\n",
              "            + ' to learn more about interactive tables.';\n",
              "          element.innerHTML = '';\n",
              "          dataTable['output_type'] = 'display_data';\n",
              "          await google.colab.output.renderOutput(dataTable, element);\n",
              "          const docLink = document.createElement('div');\n",
              "          docLink.innerHTML = docLinkHtml;\n",
              "          element.appendChild(docLink);\n",
              "        }\n",
              "      </script>\n",
              "    </div>\n",
              "  </div>\n",
              "  "
            ]
          },
          "metadata": {},
          "execution_count": 67
        }
      ]
    },
    {
      "cell_type": "code",
      "source": [
        "#sns.heatmap(data_correlation_matrix(data[not_normal_dist], \"spearman\"))\n",
        "#plt.show()"
      ],
      "metadata": {
        "id": "A4xAkDqXKcCW"
      },
      "execution_count": null,
      "outputs": []
    },
    {
      "cell_type": "code",
      "source": [
        "data_correlation_matrix(data[normal_dist], \"pearson\")"
      ],
      "metadata": {
        "id": "U8hA6rZBKNWd"
      },
      "execution_count": null,
      "outputs": []
    },
    {
      "cell_type": "code",
      "source": [
        "#sns.heatmap(data_correlation_matrix(data[normal_dist], \"pearson\"))\n",
        "#plt.show()"
      ],
      "metadata": {
        "id": "rSBVkRFSKcmk"
      },
      "execution_count": null,
      "outputs": []
    },
    {
      "cell_type": "code",
      "source": [
        "data_correlation_test(data[not_normal_dist], \"spearman\")"
      ],
      "metadata": {
        "colab": {
          "base_uri": "https://localhost:8080/"
        },
        "id": "WLdQ_nbMMW0m",
        "outputId": "67a36cf4-1f3d-4dee-8b5c-3b02a1242d86"
      },
      "execution_count": null,
      "outputs": [
        {
          "output_type": "stream",
          "name": "stdout",
          "text": [
            "Correlacion de Number vmail messages con Total day calls:\t SpearmanrResult(correlation=-0.012396183682162191, pvalue=0.4743512543301165)\n",
            "Correlacion de Number vmail messages con Total eve calls:\t SpearmanrResult(correlation=-0.007148498961164186, pvalue=0.6799373590877378)\n",
            "Correlacion de Number vmail messages con Total intl minutes:\t SpearmanrResult(correlation=-0.0015647670421516729, pvalue=0.9280460233194087)\n",
            "Correlacion de Number vmail messages con Total intl calls:\t SpearmanrResult(correlation=0.006247535512933033, pvalue=0.7184345113989625)\n",
            "Correlacion de Number vmail messages con Total intl charge:\t SpearmanrResult(correlation=-0.0015647670421516729, pvalue=0.9280460233194087)\n",
            "Correlacion de Number vmail messages con Customer service calls:\t SpearmanrResult(correlation=-0.019639487465458686, pvalue=0.25699860952874515)\n",
            "Correlacion de Total day calls con Total eve calls:\t SpearmanrResult(correlation=0.013807165107475983, pvalue=0.425534568256245)\n",
            "Correlacion de Total day calls con Total intl minutes:\t SpearmanrResult(correlation=0.015139154421210286, pvalue=0.3822609476910438)\n",
            "Correlacion de Total day calls con Total intl calls:\t SpearmanrResult(correlation=0.004148121990562604, pvalue=0.8108022838645661)\n",
            "Correlacion de Total day calls con Total intl charge:\t SpearmanrResult(correlation=0.015139154421210286, pvalue=0.3822609476910438)\n",
            "Correlacion de Total day calls con Customer service calls:\t SpearmanrResult(correlation=-0.0209574331042926, pvalue=0.2264337773593838)\n",
            "Correlacion de Total eve calls con Total intl minutes:\t SpearmanrResult(correlation=0.0002126432204624297, pvalue=0.9902088111216878)\n",
            "Correlacion de Total eve calls con Total intl calls:\t SpearmanrResult(correlation=0.014862344618615233, pvalue=0.3910247347671987)\n",
            "Correlacion de Total eve calls con Total intl charge:\t SpearmanrResult(correlation=0.0002126432204624297, pvalue=0.9902088111216878)\n",
            "Correlacion de Total eve calls con Customer service calls:\t SpearmanrResult(correlation=0.00269655338391184, pvalue=0.8763328071667409)\n",
            "Correlacion de Total intl minutes con Total intl calls:\t SpearmanrResult(correlation=0.017899825847399107, pvalue=0.30156160206800164)\n",
            "Correlacion de Total intl minutes con Total intl charge:\t SpearmanrResult(correlation=0.9999999999999999, pvalue=0.0)\n",
            "Correlacion de Total intl minutes con Customer service calls:\t SpearmanrResult(correlation=-0.017373560428785757, pvalue=0.3159997101149007)\n",
            "Correlacion de Total intl calls con Total intl charge:\t SpearmanrResult(correlation=0.017899825847399107, pvalue=0.30156160206800164)\n",
            "Correlacion de Total intl calls con Customer service calls:\t SpearmanrResult(correlation=-0.0005976242882270681, pvalue=0.9724870620435297)\n",
            "Correlacion de Total intl charge con Customer service calls:\t SpearmanrResult(correlation=-0.017373560428785757, pvalue=0.3159997101149007)\n"
          ]
        }
      ]
    },
    {
      "cell_type": "code",
      "source": [
        "data_correlation_test(data[normal_dist], \"pearson\")"
      ],
      "metadata": {
        "id": "cS0ZdDZGO9Hy"
      },
      "execution_count": null,
      "outputs": []
    },
    {
      "cell_type": "markdown",
      "source": [
        "Chi-Cuadrado"
      ],
      "metadata": {
        "id": "nIAXvvXuPtl_"
      }
    },
    {
      "cell_type": "code",
      "source": [
        "#Chi-cuadrado: variables cualitativas\n",
        "#Si pvalor < 5% => Se rechaza Ho, al 95% de confianza, existe dependencia entre las variables\n",
        "#Si pvalor > 5% => No se rechaza Ho, al 95% de confianza, no existe dependencia entre las variables\n",
        "\n",
        "def data_chi_cuadrado(data, target):\n",
        "  for col in (data.columns):\n",
        "    contigencia = pd.crosstab(target, data[col]) \n",
        "    c, p, dof, expected = chi2_contingency(contigencia) \n",
        "    print(f\"{col}:\\t p-value of Chi2 test: {p}\")\n",
        "    if(p<0.05):\n",
        "      print(f\"SI existe dependencia entre la variable {col} y el target {target.name}\")    \n",
        "    else:\n",
        "      print(f\"NO existe dependencia entre la variable {col} y el target {target.name}\")\n",
        "    print(\"\")  "
      ],
      "metadata": {
        "id": "hVUssRiQPvhl"
      },
      "execution_count": null,
      "outputs": []
    },
    {
      "cell_type": "code",
      "source": [
        "data_chi_cuadrado(data[['State','International plan','Voice mail plan']], data['Churn'])"
      ],
      "metadata": {
        "colab": {
          "base_uri": "https://localhost:8080/"
        },
        "id": "uGsHV6muRKmP",
        "outputId": "349f6d0b-e061-4268-f2ae-2b676d50325c"
      },
      "execution_count": null,
      "outputs": [
        {
          "output_type": "stream",
          "name": "stdout",
          "text": [
            "State:\t p-value of Chi2 test: 0.002296221552011188\n",
            "SI existe dependencia entre la variable State y el target Churn\n",
            "\n",
            "International plan:\t p-value of Chi2 test: 2.4931077033159556e-50\n",
            "SI existe dependencia entre la variable International plan y el target Churn\n",
            "\n",
            "Voice mail plan:\t p-value of Chi2 test: 5.15063965903898e-09\n",
            "SI existe dependencia entre la variable Voice mail plan y el target Churn\n",
            "\n"
          ]
        }
      ]
    },
    {
      "cell_type": "markdown",
      "source": [
        "Violin plot"
      ],
      "metadata": {
        "id": "z3XnOLuaUg5b"
      }
    },
    {
      "cell_type": "code",
      "source": [
        "#Violin: target vs cuantitativas\n",
        "for i, col in enumerate(data.iloc[:,5:-1].columns):\n",
        "  sns.violinplot(x='Churn', y=col,data=data)  \n",
        "  plt.show()"
      ],
      "metadata": {
        "id": "Zw_JCKhdUgNw"
      },
      "execution_count": null,
      "outputs": []
    },
    {
      "cell_type": "markdown",
      "source": [
        "MODELOS ML"
      ],
      "metadata": {
        "id": "VKVr8DFxU_sY"
      }
    },
    {
      "cell_type": "code",
      "source": [
        "X_train = data80.drop(columns='Churn')\n",
        "y_train = data80['Churn']\n",
        "\n",
        "X_test = data20.drop(columns='Churn')\n",
        "y_test = data20['Churn']"
      ],
      "metadata": {
        "id": "zRt2zZohU_KA"
      },
      "execution_count": null,
      "outputs": []
    },
    {
      "cell_type": "markdown",
      "source": [
        "Naive Bayes"
      ],
      "metadata": {
        "id": "geki3FoyWS3G"
      }
    },
    {
      "cell_type": "code",
      "source": [
        "#Cuantitativas\n",
        "classifier = GaussianNB().fit(X_train.iloc[:,5:], y_train)\n",
        "y_pred = classifier.predict(X_test.iloc[:,5:])\n",
        "y_pred_prob = classifier.predict_proba(X_test.iloc[:,5:])\n",
        "\n",
        "false_positive_rate, true_positive_rate, thresholds = roc_curve(y_test, y_pred_prob[:,1])\n",
        "false_positive_rate1 = false_positive_rate\n",
        "true_positive_rate1 = true_positive_rate\n",
        "\n",
        "roc_auc = auc(false_positive_rate, true_positive_rate)\n",
        "roc_auc1 = roc_auc\n",
        "\n",
        "print(\"AUC: \",roc_auc)\n",
        "\n",
        "titles_options = [(\"Confusion matrix, without normalization\", None),\n",
        "                  (\"Normalized confusion matrix\", 'true')]\n",
        "for title, normalize in titles_options:\n",
        "    disp = plot_confusion_matrix(classifier, X_test.iloc[:,5:], y_test,\n",
        "                                 #display_labels=y_test,\n",
        "                                 cmap=plt.cm.Blues,\n",
        "                                 normalize=normalize)\n",
        "    disp.ax_.set_title(title)\n",
        "\n",
        "    print(title)\n",
        "    print(disp.confusion_matrix)\n",
        "\n",
        "plt.show()"
      ],
      "metadata": {
        "id": "l2yafWfAWSTg"
      },
      "execution_count": null,
      "outputs": []
    },
    {
      "cell_type": "markdown",
      "source": [
        "Decision Tree"
      ],
      "metadata": {
        "id": "zN-DoMkIagEc"
      }
    },
    {
      "cell_type": "code",
      "source": [
        "#Cuantitativas\n",
        "param_grid = {\n",
        "    'max_depth': [2, 3, 5, 10, 20],\n",
        "    'min_samples_leaf': [5, 10, 20, 50, 100],\n",
        "    'criterion': [\"gini\", \"entropy\"]\n",
        "}\n",
        "grid = GridSearchCV(tree.DecisionTreeClassifier(),param_grid,refit=True,verbose=0,cv=5)\n",
        "grid.fit(X_train.iloc[:,5:],y_train)\n",
        "print(grid.best_estimator_)"
      ],
      "metadata": {
        "colab": {
          "base_uri": "https://localhost:8080/"
        },
        "id": "gXRatTPDalKC",
        "outputId": "9ca466a4-a4f4-418b-d314-d6faa13caf4b"
      },
      "execution_count": null,
      "outputs": [
        {
          "output_type": "stream",
          "name": "stdout",
          "text": [
            "DecisionTreeClassifier(max_depth=5, min_samples_leaf=10)\n"
          ]
        }
      ]
    },
    {
      "cell_type": "code",
      "source": [
        "classifier = tree.DecisionTreeClassifier(max_depth=5, min_samples_leaf=10).fit(X_train.iloc[:,5:], y_train)\n",
        "plt.figure(figsize = (20,8))\n",
        "tree.plot_tree(classifier)\n",
        "plt.show()"
      ],
      "metadata": {
        "id": "KuN0DMdpbbkP"
      },
      "execution_count": null,
      "outputs": []
    },
    {
      "cell_type": "code",
      "source": [
        "y_pred = classifier.predict(X_test.iloc[:,5:])\n",
        "y_pred_prob = classifier.predict_proba(X_test.iloc[:,5:])\n",
        "\n",
        "false_positive_rate, true_positive_rate, thresholds = roc_curve(y_test, y_pred_prob[:,1])\n",
        "false_positive_rate2 = false_positive_rate\n",
        "true_positive_rate2 = true_positive_rate\n",
        "\n",
        "roc_auc = auc(false_positive_rate, true_positive_rate)\n",
        "roc_auc2 = roc_auc\n",
        "\n",
        "print(\"AUC: \",roc_auc)\n",
        "\n",
        "titles_options = [(\"Confusion matrix, without normalization\", None),\n",
        "                  (\"Normalized confusion matrix\", 'true')]\n",
        "for title, normalize in titles_options:\n",
        "    disp = plot_confusion_matrix(classifier, X_test.iloc[:,5:], y_test,\n",
        "                                 #display_labels=y_test,\n",
        "                                 cmap=plt.cm.Blues,\n",
        "                                 normalize=normalize)\n",
        "    disp.ax_.set_title(title)\n",
        "\n",
        "    print(title)\n",
        "    print(disp.confusion_matrix)\n",
        "\n",
        "plt.show()"
      ],
      "metadata": {
        "id": "E3kJ-jLhcJWb"
      },
      "execution_count": null,
      "outputs": []
    },
    {
      "cell_type": "markdown",
      "source": [
        "KNN"
      ],
      "metadata": {
        "id": "GBnAG629chFL"
      }
    },
    {
      "cell_type": "markdown",
      "source": [
        "clasico"
      ],
      "metadata": {
        "id": "V95Wm6lWdDOV"
      }
    },
    {
      "cell_type": "code",
      "source": [
        "#Cuantitativas\n",
        "X_trainK = StandardScaler().fit_transform(X_train.iloc[:,5:])\n",
        "X_testK = StandardScaler().fit_transform(X_test.iloc[:,5:])\n",
        "\n",
        "#Tuning\n",
        "k_range = range(1, 31)\n",
        "k_scores = []\n",
        "\n",
        "for k in k_range:\n",
        "    knn = KNeighborsClassifier(n_neighbors=k)\n",
        "    scores = cross_val_score(knn, X_train.iloc[:,5:], y_train, cv=5, scoring='accuracy')\n",
        "    k_scores.append(scores.mean())\n",
        "\n",
        "best_Acc = max(k_scores)\n",
        "best_k = k_scores.index(best_Acc)+1\n",
        "print(f\"Best k: {best_k}, Accuracy: {best_Acc}\")\n",
        "plt.plot(k_range, k_scores)\n",
        "plt.xlabel('Value of K for KNN')\n",
        "plt.ylabel('Cross-Validated Accuracy')\n",
        "plt.show()"
      ],
      "metadata": {
        "id": "Ik9SuCZXciTf"
      },
      "execution_count": null,
      "outputs": []
    },
    {
      "cell_type": "code",
      "source": [
        "classifier = KNeighborsClassifier(n_neighbors=best_k).fit(X_trainK, y_train)\n",
        "y_pred = classifier.predict(X_testK)\n",
        "y_pred_prob = classifier.predict_proba(X_testK)\n",
        "\n",
        "false_positive_rate, true_positive_rate, thresholds = roc_curve(y_test, y_pred_prob[:,1])\n",
        "false_positive_rate3 = false_positive_rate\n",
        "true_positive_rate3 = true_positive_rate\n",
        "\n",
        "roc_auc = auc(false_positive_rate, true_positive_rate)\n",
        "roc_auc3 = roc_auc\n",
        "\n",
        "print(\"AUC: \",roc_auc)\n",
        "\n",
        "titles_options = [(\"Confusion matrix, without normalization\", None),\n",
        "                  (\"Normalized confusion matrix\", 'true')]\n",
        "for title, normalize in titles_options:\n",
        "    disp = plot_confusion_matrix(classifier, X_testK, y_test,\n",
        "                                 #display_labels=y_test,\n",
        "                                 cmap=plt.cm.Blues,\n",
        "                                 normalize=normalize)\n",
        "    disp.ax_.set_title(title)\n",
        "\n",
        "    print(title)\n",
        "    print(disp.confusion_matrix)\n",
        "\n",
        "plt.show()"
      ],
      "metadata": {
        "id": "tKTvIoTUdVcN"
      },
      "execution_count": null,
      "outputs": []
    },
    {
      "cell_type": "markdown",
      "source": [
        "mejor k basado en: AUC vs k"
      ],
      "metadata": {
        "id": "sWbF8QQlfMd6"
      }
    },
    {
      "cell_type": "code",
      "source": [
        "X_trainK = StandardScaler().fit_transform(X_train.iloc[:,5:])\n",
        "X_testK = StandardScaler().fit_transform(X_test.iloc[:,5:])\n",
        "\n",
        "k_range = range(1, 100)\n",
        "k_scores = []\n",
        "\n",
        "for k in k_range:\n",
        "  classifier = KNeighborsClassifier(n_neighbors=k).fit(X_trainK, y_train)\n",
        "  y_pred = classifier.predict(X_testK)\n",
        "  y_pred_prob = classifier.predict_proba(X_testK)\n",
        "  false_positive_rate, true_positive_rate, thresholds = roc_curve(y_test, y_pred_prob[:,1])  \n",
        "  roc_auc = auc(false_positive_rate, true_positive_rate)  \n",
        "  k_scores.append(roc_auc)\n",
        "\n",
        "best_AUC = max(k_scores)\n",
        "best_k = k_scores.index(best_AUC)+1\n",
        "print(f\"Best k: {best_k}, AUC: {best_AUC}\")\n",
        "plt.plot(k_range, k_scores)\n",
        "plt.xlabel('Value of K for KNN')\n",
        "plt.ylabel('AUC')\n",
        "plt.show()"
      ],
      "metadata": {
        "id": "EtQgGvG-fVfg"
      },
      "execution_count": null,
      "outputs": []
    },
    {
      "cell_type": "code",
      "source": [
        "classifier = KNeighborsClassifier(n_neighbors=best_k).fit(X_trainK, y_train)\n",
        "y_pred = classifier.predict(X_testK)\n",
        "y_pred_prob = classifier.predict_proba(X_testK)\n",
        "\n",
        "false_positive_rate, true_positive_rate, thresholds = roc_curve(y_test, y_pred_prob[:,1])\n",
        "false_positive_rate3 = false_positive_rate\n",
        "true_positive_rate3 = true_positive_rate\n",
        "\n",
        "roc_auc = auc(false_positive_rate, true_positive_rate)\n",
        "roc_auc3 = roc_auc\n",
        "\n",
        "print(\"AUC: \",roc_auc)\n",
        "\n",
        "titles_options = [(\"Confusion matrix, without normalization\", None),\n",
        "                  (\"Normalized confusion matrix\", 'true')]\n",
        "for title, normalize in titles_options:\n",
        "    disp = plot_confusion_matrix(classifier, X_testK, y_test,\n",
        "                                 #display_labels=y_test,\n",
        "                                 cmap=plt.cm.Blues,\n",
        "                                 normalize=normalize)\n",
        "    disp.ax_.set_title(title)\n",
        "\n",
        "    print(title)\n",
        "    print(disp.confusion_matrix)\n",
        "\n",
        "plt.show()"
      ],
      "metadata": {
        "id": "BbRBMT4chAk6"
      },
      "execution_count": null,
      "outputs": []
    },
    {
      "cell_type": "markdown",
      "source": [
        "Neural Network"
      ],
      "metadata": {
        "id": "QRlrxCHXjl60"
      }
    },
    {
      "cell_type": "code",
      "source": [
        "#Tuning\n",
        "param_grid = {\n",
        "    'hidden_layer_sizes': [(10,30,10),(20,)],\n",
        "    'activation': ['tanh', 'relu'],\n",
        "    'solver': ['sgd', 'adam'],\n",
        "    'alpha': [0.0001, 0.05],\n",
        "    'learning_rate': ['constant','adaptive'],\n",
        "}\n",
        "grid = GridSearchCV(MLPClassifier(max_iter=500),param_grid,refit=True,verbose=0,cv=5)\n",
        "grid.fit(X_train.iloc[:,5:],y_train)\n",
        "print(grid.best_estimator_)"
      ],
      "metadata": {
        "colab": {
          "base_uri": "https://localhost:8080/"
        },
        "id": "AWbyFhBmjpBk",
        "outputId": "518fab4e-ea13-4c12-fc2c-f826cf76f9dc"
      },
      "execution_count": null,
      "outputs": [
        {
          "output_type": "stream",
          "name": "stdout",
          "text": [
            "MLPClassifier(alpha=0.05, hidden_layer_sizes=(10, 30, 10), max_iter=500)\n"
          ]
        }
      ]
    }
  ]
}