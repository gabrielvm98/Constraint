{
  "nbformat": 4,
  "nbformat_minor": 0,
  "metadata": {
    "colab": {
      "name": "Wilmar EA Topicos - Parcial Template.ipynb",
      "provenance": [],
      "collapsed_sections": []
    },
    "kernelspec": {
      "name": "python3",
      "display_name": "Python 3"
    },
    "language_info": {
      "name": "python"
    }
  },
  "cells": [
    {
      "cell_type": "code",
      "execution_count": 1,
      "metadata": {
        "colab": {
          "base_uri": "https://localhost:8080/"
        },
        "id": "8vqN6uJX4yGc",
        "outputId": "387c7b9d-17d9-4d7f-c524-9dcbb3828628"
      },
      "outputs": [
        {
          "output_type": "stream",
          "name": "stdout",
          "text": [
            "Requirement already satisfied: ortools in /usr/local/lib/python3.7/dist-packages (9.3.10497)\n",
            "Requirement already satisfied: absl-py>=0.13 in /usr/local/lib/python3.7/dist-packages (from ortools) (1.0.0)\n",
            "Requirement already satisfied: protobuf>=3.19.4 in /usr/local/lib/python3.7/dist-packages (from ortools) (3.20.1)\n",
            "Requirement already satisfied: numpy>=1.13.3 in /usr/local/lib/python3.7/dist-packages (from ortools) (1.21.6)\n",
            "Requirement already satisfied: six in /usr/local/lib/python3.7/dist-packages (from absl-py>=0.13->ortools) (1.15.0)\n"
          ]
        }
      ],
      "source": [
        "!pip install ortools"
      ]
    },
    {
      "cell_type": "code",
      "source": [
        "from ortools.sat.python import cp_model"
      ],
      "metadata": {
        "id": "d32WVpy7441G"
      },
      "execution_count": 2,
      "outputs": []
    },
    {
      "cell_type": "code",
      "source": [
        "#crear un modelo CSP\n",
        "model = cp_model.CpModel()"
      ],
      "metadata": {
        "id": "0Zf4eEDv7Ze-"
      },
      "execution_count": 11,
      "outputs": []
    },
    {
      "cell_type": "code",
      "source": [
        "#Datos\n",
        "n_casas = 5\n",
        "\n",
        "nacion = [\"Ingles\", \"Español\", \"Japones\", \"Italiano\", \"Noruego\"]\n",
        "profesion = [\"Pintor\", \"Escultor\", \"Diplomatico\", \"Medico\", \"Violinista\"]\n",
        "animal = [\"Zorro\", \"Caballo\", \"Cebra\", \"Perro\", \"Caracol\"]\n",
        "bebida = [\"Te\", \"Cafe\", \"Agua\", \"Jugo\", \"Leche\"]\n",
        "color = [\"Rojo\", \"Amarillo\", \"Verde\", \"Blanco\", \"Azul\"]\n"
      ],
      "metadata": {
        "id": "qyXF5R1s7gPd"
      },
      "execution_count": 12,
      "outputs": []
    },
    {
      "cell_type": "code",
      "source": [
        "#Variables y Dominio\n",
        "\n",
        "N = [model.NewIntVar(0, n_casas-1, f\"{x}\") for x in nacion]\n",
        "P = [model.NewIntVar(0, n_casas-1, f\"{x}\") for x in profesion]\n",
        "A = [model.NewIntVar(0, n_casas-1, f\"{x}\") for x in animal]\n",
        "B = [model.NewIntVar(0, n_casas-1, f\"{x}\") for x in bebida]\n",
        "C = [model.NewIntVar(0, n_casas-1, f\"{x}\") for x in color]\n",
        "print(N)\n",
        "print(P)\n",
        "print(A)\n",
        "print(B)\n",
        "print(C)"
      ],
      "metadata": {
        "id": "rFQ1YHCn7hsZ",
        "colab": {
          "base_uri": "https://localhost:8080/"
        },
        "outputId": "07ca3b5b-b04a-4b1a-9ba1-f55e9f8b69f9"
      },
      "execution_count": 13,
      "outputs": [
        {
          "output_type": "stream",
          "name": "stdout",
          "text": [
            "[Ingles(0..4), Español(0..4), Japones(0..4), Italiano(0..4), Noruego(0..4)]\n",
            "[Pintor(0..4), Escultor(0..4), Diplomatico(0..4), Medico(0..4), Violinista(0..4)]\n",
            "[Zorro(0..4), Caballo(0..4), Cebra(0..4), Perro(0..4), Caracol(0..4)]\n",
            "[Te(0..4), Cafe(0..4), Agua(0..4), Jugo(0..4), Leche(0..4)]\n",
            "[Rojo(0..4), Amarillo(0..4), Verde(0..4), Blanco(0..4), Azul(0..4)]\n"
          ]
        }
      ]
    },
    {
      "cell_type": "code",
      "source": [
        "#Restricciones\n",
        "\n",
        "model.AddAllDifferent(N)\n",
        "model.AddAllDifferent(P)\n",
        "model.AddAllDifferent(A)\n",
        "model.AddAllDifferent(B)\n",
        "model.AddAllDifferent(C)\n",
        "\n",
        "\n",
        "model.Add(N[nacion.index(\"Ingles\")] == C[color.index(\"Rojo\")])\n",
        "model.Add(N[nacion.index(\"Español\")] == A[animal.index(\"Perro\")])\n",
        "model.Add(N[nacion.index(\"Japones\")] == P[profesion.index(\"Pintor\")])\n",
        "model.Add(N[nacion.index(\"Italiano\")] == B[bebida.index(\"Te\")])\n",
        "model.Add(N[nacion.index(\"Noruego\")] == 0)\n",
        "model.Add(C[color.index(\"Verde\")] == B[bebida.index(\"Cafe\")])\n",
        "model.Add(C[color.index(\"Blanco\")] == C[color.index(\"Verde\")]-1)\n",
        "model.Add(P[profesion.index(\"Escultor\")] == A[animal.index(\"Caracol\")])\n",
        "model.Add(P[profesion.index(\"Diplomatico\")] == C[color.index(\"Amarillo\")])\n",
        "model.Add(B[bebida.index(\"Leche\")] == 2)\n",
        "model.Add(N[nacion.index(\"Noruego\")] == C[color.index(\"Azul\")]-1)\n",
        "model.Add(P[profesion.index(\"Violinista\")] == B[bebida.index(\"Jugo\")])\n",
        "\n",
        "model.AddAbsEquality( 1, (A[animal.index(\"Zorro\")] - P[profesion.index(\"Medico\")]) )\n",
        "model.AddAbsEquality( 1, (A[animal.index(\"Caballo\")] - P[profesion.index(\"Diplomatico\")]) )\n",
        "\n",
        "#model.Add(x != y)\n",
        "#model.Add(sum([G[i][f] if(gender[i]==0) else 0 for i in range(n_crew)]) >= min_hostesess[f])\n",
        "\n",
        "#model.AddMultiplicationEquality(c, [a,b]) #c == a * b\n",
        "\n",
        "#model.AddAllDifferent([s,e,n,d,m,o,r,y])\n",
        "#model.AddAtLeastOne([G[i][f] if (i in french) else 0 for i in range(n_crew)])\n",
        "\n",
        "#model.AddAllowedAssignments((seq[4], seq[9]), rhymes_table) # First rhyme\n",
        "#model.AddForbiddenAssignments( # also named table constraint, or extensional constraint\n",
        "#                                (seq[i], seq[i + 1], seq[i + 2], seq[i + 3]),  # variables\n",
        "#                                plagiarism_table)     # table\n",
        "\n",
        "#model.Add(x >= 5).OnlyEnforceIf(b) #b => (x >= 5)\n",
        "#model.Add(x < 5).OnlyEnforceIf(b.Not()) #not(b) => not(x >= 5) --> (x >= 5) => b"
      ],
      "metadata": {
        "id": "JhNt08lr7tJ-",
        "colab": {
          "base_uri": "https://localhost:8080/"
        },
        "outputId": "4c07ad88-b91b-4cd8-fb84-50e821a3d1f9"
      },
      "execution_count": 39,
      "outputs": [
        {
          "output_type": "execute_result",
          "data": {
            "text/plain": [
              "<ortools.sat.python.cp_model.Constraint at 0x7f829159e190>"
            ]
          },
          "metadata": {},
          "execution_count": 39
        }
      ]
    },
    {
      "cell_type": "code",
      "source": [
        "#Optimizacion\n",
        "\n",
        "#Función Objetivo\n",
        "\n",
        "#model.Maximize(a+b+c)\n",
        "#model.Minimize(numero_colores)\n",
        "\n",
        "\n",
        "#heurísticas\n",
        "#model.AddDecisionStrategy(variables, heurística de variable, heurística de valor)\n",
        "#en este caso heurística de variable=elegir al primero en orden [a,b,c]\n",
        "#en este caso heurística de valor=elegir el máximo valor posible\n",
        "\n",
        "#model.AddDecisionStrategy([a,b,c], cp_model.CHOOSE_FIRST, cp_model.SELECT_MAX_VALUE)"
      ],
      "metadata": {
        "id": "jB4QppJTAUUq"
      },
      "execution_count": null,
      "outputs": []
    },
    {
      "cell_type": "code",
      "source": [
        "#Solver Normal\n",
        "solver = cp_model.CpSolver() \n",
        "status = solver.Solve(model)\n",
        "\n",
        "if status == cp_model.OPTIMAL:\n",
        "  for i in range(n_casas):\n",
        "      result = \"Casa \" + str(i) + \": \"\n",
        "      for j in range(n_casas):\n",
        "        if(solver.Value(N[j]) == i):\n",
        "          result += str(N[j]) + \", \"\n",
        "\n",
        "        if(solver.Value(P[j]) == i):\n",
        "          result += str(P[j]) + \", \"\n",
        "          \n",
        "        if(solver.Value(A[j]) == i):\n",
        "          result += str(A[j]) + \", \"\n",
        "          \n",
        "        if(solver.Value(B[j]) == i):\n",
        "          result += str(B[j]) + \", \"\n",
        "          \n",
        "        if(solver.Value(C[j]) == i):\n",
        "          result += str(C[j]) + \", \"\n",
        "\n",
        "      print(result[:-2])\n",
        "\n",
        "  \n",
        "\n",
        "#Tiempo\n",
        "print(solver.WallTime())"
      ],
      "metadata": {
        "colab": {
          "base_uri": "https://localhost:8080/"
        },
        "id": "BsriQest8AKZ",
        "outputId": "d8da4384-9c5f-49a5-d367-ec7d01d6fcbf"
      },
      "execution_count": 40,
      "outputs": [
        {
          "output_type": "stream",
          "name": "stdout",
          "text": [
            "Casa 0: Zorro, Amarillo, Diplomatico, Agua, Noruego\n",
            "Casa 1: Te, Caballo, Italiano, Medico, Azul\n",
            "Casa 2: Ingles, Rojo, Escultor, Caracol, Leche\n",
            "Casa 3: Español, Perro, Jugo, Blanco, Violinista\n",
            "Casa 4: Pintor, Cafe, Japones, Cebra, Verde\n",
            "0.00831497\n"
          ]
        }
      ]
    },
    {
      "cell_type": "code",
      "source": [
        "#Solver All Solutions\n",
        "class VarArraySolutionPrinter(cp_model.CpSolverSolutionCallback):\n",
        "    \"\"\"Print intermediate solutions.\"\"\"\n",
        "\n",
        "    def __init__(self, variables):\n",
        "        cp_model.CpSolverSolutionCallback.__init__(self)\n",
        "        self.__variables = variables\n",
        "        self.__solution_count = 0\n",
        "\n",
        "    def on_solution_callback(self):\n",
        "        self.__solution_count += 1\n",
        "        for v in self.__variables:\n",
        "            print('%s=%i' % (v, self.Value(v)), end=' ')\n",
        "        print()\n",
        "\n",
        "    def solution_count(self):\n",
        "        return self.__solution_count"
      ],
      "metadata": {
        "id": "Ival94Vy8O2C"
      },
      "execution_count": 41,
      "outputs": []
    },
    {
      "cell_type": "code",
      "source": [
        "#Solver All Solutions\n",
        "solver = cp_model.CpSolver()\n",
        "Res = N+P+A+B+C\n",
        "solution_printer = VarArraySolutionPrinter(Res)\n",
        "status = solver.SearchForAllSolutions(model, solution_printer)\n",
        "\n",
        "print('# solutions:', solution_printer.solution_count())\n",
        "print(solver.WallTime())\n",
        "# Enumerate all solutions.\n",
        "#solver.parameters.enumerate_all_solutions = True\n",
        "#status = solver.Solve(model, solution_printer)\n",
        "\n",
        "\n"
      ],
      "metadata": {
        "id": "SfmoTfnM-l32",
        "colab": {
          "base_uri": "https://localhost:8080/"
        },
        "outputId": "daf444c1-ee28-46f0-d359-c8184e09115f"
      },
      "execution_count": 44,
      "outputs": [
        {
          "output_type": "stream",
          "name": "stdout",
          "text": [
            "Ingles=2 Español=3 Japones=4 Italiano=1 Noruego=0 Pintor=4 Escultor=2 Diplomatico=0 Medico=1 Violinista=3 Zorro=0 Caballo=1 Cebra=4 Perro=3 Caracol=2 Te=1 Cafe=4 Agua=0 Jugo=3 Leche=2 Rojo=2 Amarillo=0 Verde=4 Blanco=3 Azul=1 \n",
            "# solutions: 1\n",
            "0.011913493\n"
          ]
        }
      ]
    }
  ]
}