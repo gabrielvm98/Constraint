{
  "nbformat": 4,
  "nbformat_minor": 0,
  "metadata": {
    "colab": {
      "name": "Topicos - Parcial Template.ipynb",
      "provenance": [],
      "collapsed_sections": []
    },
    "kernelspec": {
      "name": "python3",
      "display_name": "Python 3"
    },
    "language_info": {
      "name": "python"
    }
  },
  "cells": [
    {
      "cell_type": "markdown",
      "source": [
        ""
      ],
      "metadata": {
        "id": "vRf8Zy5S5A4i"
      }
    },
    {
      "cell_type": "code",
      "execution_count": 1,
      "metadata": {
        "colab": {
          "base_uri": "https://localhost:8080/"
        },
        "id": "8vqN6uJX4yGc",
        "outputId": "135ca7b7-e7a2-42e3-b355-8b0874648a3f"
      },
      "outputs": [
        {
          "output_type": "stream",
          "name": "stdout",
          "text": [
            "Requirement already satisfied: ortools in /usr/local/lib/python3.7/dist-packages (9.3.10497)\n",
            "Requirement already satisfied: protobuf>=3.19.4 in /usr/local/lib/python3.7/dist-packages (from ortools) (3.20.1)\n",
            "Requirement already satisfied: numpy>=1.13.3 in /usr/local/lib/python3.7/dist-packages (from ortools) (1.21.6)\n",
            "Requirement already satisfied: absl-py>=0.13 in /usr/local/lib/python3.7/dist-packages (from ortools) (1.0.0)\n",
            "Requirement already satisfied: six in /usr/local/lib/python3.7/dist-packages (from absl-py>=0.13->ortools) (1.15.0)\n"
          ]
        }
      ],
      "source": [
        "!pip install ortools"
      ]
    },
    {
      "cell_type": "code",
      "source": [
        "from ortools.sat.python import cp_model"
      ],
      "metadata": {
        "id": "d32WVpy7441G"
      },
      "execution_count": 3,
      "outputs": []
    },
    {
      "cell_type": "code",
      "source": [
        "#crear un modelo CSP\n",
        "model = cp_model.CpModel()"
      ],
      "metadata": {
        "id": "0Zf4eEDv7Ze-"
      },
      "execution_count": 4,
      "outputs": []
    },
    {
      "cell_type": "code",
      "source": [
        "#Datos"
      ],
      "metadata": {
        "id": "qyXF5R1s7gPd"
      },
      "execution_count": 5,
      "outputs": []
    },
    {
      "cell_type": "code",
      "source": [
        "#Variables y Dominio\n",
        "\n",
        "#x = model.NewIntVar(0, 2, 'x')"
      ],
      "metadata": {
        "id": "rFQ1YHCn7hsZ"
      },
      "execution_count": null,
      "outputs": []
    },
    {
      "cell_type": "code",
      "source": [
        "#Restricciones\n",
        "\n",
        "#model.Add(x != y)\n",
        "#model.Add(sum([G[i][f] if(gender[i]==0) else 0 for i in range(n_crew)]) >= min_hostesess[f])\n",
        "\n",
        "#model.AddMultiplicationEquality(c, [a,b]) #c == a * b\n",
        "\n",
        "#model.AddAllDifferent([s,e,n,d,m,o,r,y])\n",
        "#model.AddAtLeastOne([G[i][f] if (i in french) else 0 for i in range(n_crew)])\n",
        "\n",
        "#model.AddAllowedAssignments((seq[4], seq[9]), rhymes_table) # First rhyme\n",
        "#model.AddForbiddenAssignments( # also named table constraint, or extensional constraint\n",
        "#                                (seq[i], seq[i + 1], seq[i + 2], seq[i + 3]),  # variables\n",
        "#                                plagiarism_table)     # table\n",
        "\n",
        "#model.Add(x >= 5).OnlyEnforceIf(b) #b => (x >= 5)\n",
        "#model.Add(x < 5).OnlyEnforceIf(b.Not()) #not(b) => not(x >= 5) --> (x >= 5) => b"
      ],
      "metadata": {
        "id": "JhNt08lr7tJ-"
      },
      "execution_count": null,
      "outputs": []
    },
    {
      "cell_type": "code",
      "source": [
        "#Optimizacion\n",
        "\n",
        "#Función Objetivo\n",
        "\n",
        "#model.Maximize(a+b+c)\n",
        "#model.Minimize(numero_colores)\n",
        "\n",
        "\n",
        "#heurísticas\n",
        "#model.AddDecisionStrategy(variables, heurística de variable, heurística de valor)\n",
        "#en este caso heurística de variable=elegir al primero en orden [a,b,c]\n",
        "#en este caso heurística de valor=elegir el máximo valor posible\n",
        "\n",
        "#model.AddDecisionStrategy([a,b,c], cp_model.CHOOSE_FIRST, cp_model.SELECT_MAX_VALUE)"
      ],
      "metadata": {
        "id": "jB4QppJTAUUq"
      },
      "execution_count": null,
      "outputs": []
    },
    {
      "cell_type": "code",
      "source": [
        "#Solver Normal\n",
        "solver = cp_model.CpSolver() \n",
        "status = solver.Solve(model)\n",
        "\n",
        "if status == cp_model.OPTIMAL:\n",
        "  #print('x = {}'.format(solver.Value(x)))\n",
        "  print()\n",
        "\n",
        "#Tiempo\n",
        "print(solver.WallTime())"
      ],
      "metadata": {
        "colab": {
          "base_uri": "https://localhost:8080/"
        },
        "id": "BsriQest8AKZ",
        "outputId": "3710de39-0998-4bb9-e373-3bdc22875ca9"
      },
      "execution_count": 6,
      "outputs": [
        {
          "output_type": "stream",
          "name": "stdout",
          "text": [
            "\n"
          ]
        }
      ]
    },
    {
      "cell_type": "code",
      "source": [
        "#Solver All Solutions\n",
        "class VarArraySolutionPrinter(cp_model.CpSolverSolutionCallback):\n",
        "    \"\"\"Print intermediate solutions.\"\"\"\n",
        "\n",
        "    def __init__(self, variables):\n",
        "        cp_model.CpSolverSolutionCallback.__init__(self)\n",
        "        self.__variables = variables\n",
        "        self.__solution_count = 0\n",
        "\n",
        "    def on_solution_callback(self):\n",
        "        self.__solution_count += 1\n",
        "        for v in self.__variables:\n",
        "            print('%s=%i' % (v, self.Value(v)), end=' ')\n",
        "        print()\n",
        "\n",
        "    def solution_count(self):\n",
        "        return self.__solution_count"
      ],
      "metadata": {
        "id": "Ival94Vy8O2C"
      },
      "execution_count": 7,
      "outputs": []
    },
    {
      "cell_type": "code",
      "source": [
        "#Solver All Solutions\n",
        "solver = cp_model.CpSolver()\n",
        "solution_printer = VarArraySolutionPrinter(color)\n",
        "status = solver.SearchForAllSolutions(model, solution_printer)\n",
        "\n",
        "print('# solutions:', solution_printer.solution_count())\n",
        "\n",
        "# Enumerate all solutions.\n",
        "#solver.parameters.enumerate_all_solutions = True\n",
        "#status = solver.Solve(model, solution_printer)\n",
        "\n",
        "\n"
      ],
      "metadata": {
        "id": "SfmoTfnM-l32"
      },
      "execution_count": null,
      "outputs": []
    },
    {
      "cell_type": "code",
      "source": [
        ""
      ],
      "metadata": {
        "id": "SyxwVwnvAAfv"
      },
      "execution_count": null,
      "outputs": []
    }
  ]
}